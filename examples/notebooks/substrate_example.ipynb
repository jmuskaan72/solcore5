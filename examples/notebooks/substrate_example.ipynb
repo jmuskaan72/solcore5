{
  "nbformat": 4,
  "nbformat_minor": 0,
  "metadata": {
    "colab": {
      "name": "substrate_example.ipynb",
      "provenance": [],
      "collapsed_sections": []
    },
    "kernelspec": {
      "name": "python3",
      "display_name": "Python 3"
    }
  },
  "cells": [
    {
      "cell_type": "markdown",
      "metadata": {
        "id": "f2rzc-rFNvlV",
        "colab_type": "text"
      },
      "source": [
        "# Substrate Example"
      ]
    },
    {
      "cell_type": "markdown",
      "metadata": {
        "id": "OFKOOFXT4WwQ",
        "colab_type": "text"
      },
      "source": [
        "  \n",
        "TMM and RCWA solvers can take into account the presence of a substrate if it is specified in the solar_cell object.\n"
      ]
    },
    {
      "cell_type": "code",
      "metadata": {
        "id": "ovDputlQMyPI",
        "colab_type": "code",
        "colab": {}
      },
      "source": [
        "from solcore import material\n",
        "from solcore import si\n",
        "import matplotlib.pyplot as plt\n",
        "import numpy as np\n",
        "from solcore.solar_cell import default_GaAs, SolarCell, Layer, Junction\n",
        "from solcore.solar_cell_solver import solar_cell_solver\n",
        "from solcore.absorption_calculator import OptiStack\n"
      ],
      "execution_count": 0,
      "outputs": []
    },
    {
      "cell_type": "code",
      "metadata": {
        "id": "M6N72zXGN4XF",
        "colab_type": "code",
        "colab": {}
      },
      "source": [
        "T = 298\n",
        "\n",
        "GaAs = material('GaAs')(T = T)\n",
        "\n",
        "thin_GaAs = SolarCell([Layer(material = GaAs, width=si('500nm'))])\n",
        "\n",
        "GaAs_on_substrate = SolarCell([Layer(material = GaAs, width=si('500nm'))], substrate = GaAs)\n",
        "\n",
        "wl = si(np.linspace(300, 900, 200), 'nm')"
      ],
      "execution_count": 0,
      "outputs": []
    },
    {
      "cell_type": "markdown",
      "metadata": {
        "id": "QI_YPVKfOAdi",
        "colab_type": "text"
      },
      "source": [
        "Thin solar cell, no substrate - will get significant absorption enhancement from reflection at the GaAs/air interface at the back MUST specify no_back_reflection = False, so that Solcore does not automatically suppress reflections from the back (currently, the default setting in solcore is to suppress reflections from the back, so no_back_reflection = True"
      ]
    },
    {
      "cell_type": "code",
      "metadata": {
        "id": "gE06vNF3OBx1",
        "colab_type": "code",
        "colab": {}
      },
      "source": [
        "solar_cell_solver(thin_GaAs, 'optics', user_options={'wavelength': wl, 'optics_method': 'TMM', 'no_back_reflection': False})\n",
        "z_pos = np.linspace(0, thin_GaAs.width, 201)\n",
        "profiles_thin = thin_GaAs[0].absorbed(z_pos)"
      ],
      "execution_count": 0,
      "outputs": []
    },
    {
      "cell_type": "markdown",
      "metadata": {
        "id": "uesGm8N3OHHx",
        "colab_type": "text"
      },
      "source": [
        "Same thin solar cell, but now on a GaAs substrate. In this case, we get the same result whether or not we specify no_back_reflection to be True or False, since with a GaAs on GaAs cell we don't get any reflection at the back interface anyway"
      ]
    },
    {
      "cell_type": "code",
      "metadata": {
        "id": "s6H3g81COJcw",
        "colab_type": "code",
        "colab": {}
      },
      "source": [
        "solar_cell_solver(GaAs_on_substrate, 'optics', user_options={'wavelength': wl, 'optics_method': 'TMM'})\n",
        "profiles_thick = GaAs_on_substrate[0].absorbed(z_pos)\n",
        "plt.figure()\n",
        "plt.plot(wl * 1e9,  thin_GaAs[0].layer_absorption)\n",
        "plt.plot(wl * 1e9,  GaAs_on_substrate[0].layer_absorption)"
      ],
      "execution_count": 0,
      "outputs": []
    },
    {
      "cell_type": "markdown",
      "metadata": {
        "id": "hrrIk1iwONuX",
        "colab_type": "text"
      },
      "source": [
        "Now we consider the thin solar cell without substrate again but ask Solcore to suppress back reflections. We must also ask Solcore to recalculate the absorption, otherwise it will just use the results calculated above which are already in the thin_GaAs object  What no_back_reflection = True actually does is add a highly absorbing layer based on the final layer in the stack so that nothing is reflected."
      ]
    },
    {
      "cell_type": "code",
      "metadata": {
        "id": "WN-wqB7pOTYc",
        "colab_type": "code",
        "colab": {}
      },
      "source": [
        "solar_cell_solver(thin_GaAs, 'optics', user_options={'wavelength': wl, 'optics_method': 'TMM', 'no_back_reflection': True,\n",
        "                                                     'recalculate_absorption': True})\n",
        "\n",
        "plt.plot(wl * 1e9,  thin_GaAs[0].layer_absorption, '--')\n",
        "plt.legend(labels=['No substrate (air below)', 'On GaAs substrate', 'No substrate, suppress back reflection'])\n",
        "plt.xlabel(\"Wavelength (nm)\")\n",
        "plt.ylabel(\"Absorption\")\n",
        "plt.show()"
      ],
      "execution_count": 0,
      "outputs": []
    },
    {
      "cell_type": "markdown",
      "metadata": {
        "id": "ApbdiC7KOWIZ",
        "colab_type": "text"
      },
      "source": [
        "We can see that, correctly, the results for the cell with an explicitly specified GaAs substrate and for the thin cell purposely suppressing back reflections are the same, while the thin cell with back reflections shows thin-film oscillations in the absorption spectrum.\n",
        "\n",
        "Let's look at what the absorption profile looks like... absorption profile around 750 nm incident wavelength:"
      ]
    },
    {
      "cell_type": "code",
      "metadata": {
        "id": "nu8gFJd1OcDL",
        "colab_type": "code",
        "colab": {}
      },
      "source": [
        "plt.figure()\n",
        "plt.plot(z_pos*1e9, profiles_thin[:,150])\n",
        "plt.plot(z_pos*1e9, profiles_thick[:,150])\n",
        "plt.xlabel(\"Depth in GaAs junction (nm)\")\n",
        "plt.ylabel('Local absorption')\n",
        "plt.show()"
      ],
      "execution_count": 0,
      "outputs": []
    }
  ]
}
